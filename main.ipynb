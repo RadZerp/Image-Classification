{
 "metadata": {
  "language_info": {
   "codemirror_mode": {
    "name": "ipython",
    "version": 3
   },
   "file_extension": ".py",
   "mimetype": "text/x-python",
   "name": "python",
   "nbconvert_exporter": "python",
   "pygments_lexer": "ipython3",
   "version": "3.8.7"
  },
  "orig_nbformat": 2,
  "kernelspec": {
   "name": "python387jvsc74a57bd098f9b2db90447ed72121f000ce6944c0b6e5dad1a180c24a8fd65a0fb916db11",
   "display_name": "Python 3.8.7 64-bit"
  },
  "metadata": {
   "interpreter": {
    "hash": "98f9b2db90447ed72121f000ce6944c0b6e5dad1a180c24a8fd65a0fb916db11"
   }
  }
 },
 "nbformat": 4,
 "nbformat_minor": 2,
 "cells": [
  {
   "cell_type": "code",
   "execution_count": 1,
   "metadata": {},
   "outputs": [
    {
     "output_type": "stream",
     "name": "stdout",
     "text": [
      "initializing dataset...\n",
      "Dataset is initializied\n",
      "Parsing dataset...\n",
      "Dataset is parsed\n"
     ]
    }
   ],
   "source": [
    "from datasetParser import initilizeDataset, parseDataset\n",
    "from matplotlib import pyplot as plt\n",
    "\n",
    "initilizeDataset()\n",
    "images, segmentations, labels = parseDataset()\n"
   ]
  },
  {
   "cell_type": "code",
   "execution_count": null,
   "metadata": {},
   "outputs": [],
   "source": []
  }
 ]
}