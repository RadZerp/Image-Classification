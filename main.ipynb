{
 "cells": [
  {
   "cell_type": "code",
   "execution_count": 1,
   "metadata": {
    "tags": []
   },
   "outputs": [
    {
     "name": "stdout",
     "output_type": "stream",
     "text": [
      "Initializing dataset...\n",
      "Dataset is initializied\n",
      "Parsing dataset...\n",
      "Dataset is parsed\n"
     ]
    }
   ],
   "source": [
    "from datasetParser import initilizeDataset, parseDataset, segmentData\n",
    "from matplotlib import pyplot as plt\n",
    "\n",
    "initilizeDataset()\n",
    "images, masks, labels = parseDataset()\n",
    "data = images\n",
    "#data = segmentData(images, masks)\n",
    "#plt.imshow(data[0])\n"
   ]
  },
  {
   "cell_type": "code",
   "execution_count": 2,
   "metadata": {},
   "outputs": [
    {
     "name": "stdout",
     "output_type": "stream",
     "text": [
      "(832, 50, 50, 3)\n",
      "Model: \"sequential\"\n",
      "_________________________________________________________________\n",
      "Layer (type)                 Output Shape              Param #   \n",
      "=================================================================\n",
      "dense (Dense)                (None, 50, 50, 5)         20        \n",
      "_________________________________________________________________\n",
      "conv2d (Conv2D)              (None, 48, 48, 3)         138       \n",
      "_________________________________________________________________\n",
      "dropout (Dropout)            (None, 48, 48, 3)         0         \n",
      "_________________________________________________________________\n",
      "global_max_pooling2d (Global (None, 3)                 0         \n",
      "_________________________________________________________________\n",
      "dense_1 (Dense)              (None, 11)                44        \n",
      "=================================================================\n",
      "Total params: 202\n",
      "Trainable params: 202\n",
      "Non-trainable params: 0\n",
      "_________________________________________________________________\n",
      "Epoch 1/10\n",
      "582/582 [==============================] - 1s 2ms/step - loss: 3.3334 - accuracy: 0.0172 - val_loss: 7.5491 - val_accuracy: 0.1080\n",
      "Epoch 2/10\n",
      "582/582 [==============================] - 1s 2ms/step - loss: 2.3915 - accuracy: 0.0034 - val_loss: 8.5567 - val_accuracy: 0.1520\n",
      "Epoch 3/10\n",
      "582/582 [==============================] - 1s 2ms/step - loss: 2.3939 - accuracy: 0.0017 - val_loss: 8.3894 - val_accuracy: 0.1400\n",
      "Epoch 4/10\n",
      "582/582 [==============================] - 2s 3ms/step - loss: 2.3938 - accuracy: 0.0017 - val_loss: 8.3893 - val_accuracy: 0.1400\n",
      "Epoch 5/10\n",
      "582/582 [==============================] - 2s 3ms/step - loss: 2.3938 - accuracy: 0.0017 - val_loss: 8.3870 - val_accuracy: 0.1360\n",
      "Epoch 6/10\n",
      "582/582 [==============================] - 2s 3ms/step - loss: 2.3938 - accuracy: 0.0017 - val_loss: 8.3869 - val_accuracy: 0.1360\n",
      "Epoch 7/10\n",
      "582/582 [==============================] - 2s 3ms/step - loss: 2.3938 - accuracy: 0.0017 - val_loss: 8.3869 - val_accuracy: 0.1360\n",
      "Epoch 8/10\n",
      "582/582 [==============================] - 2s 3ms/step - loss: 2.3938 - accuracy: 0.0017 - val_loss: 8.3859 - val_accuracy: 0.1360\n",
      "Epoch 9/10\n",
      "582/582 [==============================] - 2s 3ms/step - loss: 2.3938 - accuracy: 0.0017 - val_loss: 8.3858 - val_accuracy: 0.1360\n",
      "Epoch 10/10\n",
      "582/582 [==============================] - 2s 3ms/step - loss: 2.3938 - accuracy: 0.0017 - val_loss: 8.3857 - val_accuracy: 0.1360\n"
     ]
    }
   ],
   "source": [
    "from model import prepareData, defineModel, numpyfy\n",
    "import numpy\n",
    "data = numpy.array(data)\n",
    "X_train, X_test, y_train, y_test = prepareData(data, labels)\n",
    "model = defineModel()\n",
    "results = model.fit(X_train, y_train, validation_data = (X_test, y_test), batch_size = 1, epochs = 10, verbose = 1)"
   ]
  },
  {
   "cell_type": "code",
   "execution_count": null,
   "metadata": {},
   "outputs": [],
   "source": []
  }
 ],
 "metadata": {
  "kernelspec": {
   "display_name": "Python 3",
   "language": "python",
   "name": "python3"
  },
  "language_info": {
   "codemirror_mode": {
    "name": "ipython",
    "version": 3
   },
   "file_extension": ".py",
   "mimetype": "text/x-python",
   "name": "python",
   "nbconvert_exporter": "python",
   "pygments_lexer": "ipython3",
   "version": "3.8.5"
  },
  "metadata": {
   "interpreter": {
    "hash": "98f9b2db90447ed72121f000ce6944c0b6e5dad1a180c24a8fd65a0fb916db11"
   }
  }
 },
 "nbformat": 4,
 "nbformat_minor": 2
}
