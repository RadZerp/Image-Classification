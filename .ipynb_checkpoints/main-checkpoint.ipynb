{
 "cells": [
  {
   "cell_type": "code",
   "execution_count": 3,
   "metadata": {},
   "outputs": [
    {
     "name": "stdout",
     "output_type": "stream",
     "text": [
      "Dataset is initializied\n"
     ]
    }
   ],
   "source": [
    "from datasetParser import initilizeDataset\n",
    "\n",
    "initilizeDataset()\n"
   ]
  },
  {
   "cell_type": "code",
   "execution_count": 1,
   "metadata": {},
   "outputs": [
    {
     "name": "stdout",
     "output_type": "stream",
     "text": [
      "(105, 4)\n"
     ]
    }
   ],
   "source": [
    "from model import prepareData, defineModel\n",
    "X_train, X_test, y_train, y_test = prepareData()\n",
    "model = defineModel()\n",
    "result = model.fit(X_train, y_train, validation_data = (X_test, y_test), batch_size = 20, epochs = 30, verbose = 0)"
   ]
  },
  {
   "cell_type": "code",
   "execution_count": null,
   "metadata": {},
   "outputs": [],
   "source": []
  }
 ],
 "metadata": {
  "kernelspec": {
   "display_name": "Python 3",
   "language": "python",
   "name": "python3"
  },
  "language_info": {
   "codemirror_mode": {
    "name": "ipython",
    "version": 3
   },
   "file_extension": ".py",
   "mimetype": "text/x-python",
   "name": "python",
   "nbconvert_exporter": "python",
   "pygments_lexer": "ipython3",
   "version": "3.8.5"
  },
  "metadata": {
   "interpreter": {
    "hash": "98f9b2db90447ed72121f000ce6944c0b6e5dad1a180c24a8fd65a0fb916db11"
   }
  }
 },
 "nbformat": 4,
 "nbformat_minor": 2
}
